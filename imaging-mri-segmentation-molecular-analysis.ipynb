{
 "cells": [
  {
   "cell_type": "markdown",
   "id": "ddc415a6",
   "metadata": {
    "papermill": {
     "duration": 0.008961,
     "end_time": "2025-03-21T19:21:56.340265",
     "exception": false,
     "start_time": "2025-03-21T19:21:56.331304",
     "status": "completed"
    },
    "tags": []
   },
   "source": [
    "##  Support AI-Driven Early Tumor Detection!  \n",
    "\n",
    "### 🔹 **_If you find this research valuable, please UPVOTE to help advance it!_**  \n",
    "\n",
    "### Let’s connect and collaborate!  \n",
    "**Join the conversation on LinkedIn:** [Click here](https://www.linkedin.com/in/fae-g-11a1201b0/recent-activity/all/)\n",
    "\n",
    "###  Seeking **Lab Collaborations** to Access **MRI & Gene Expression Data** for AI-Powered Tumor Detection.  Your **connections, suggestions, and support** can drive innovation in **early cancer detection & precision medicine**!  \n",
    "\n",
    "###  **Current Challenge:**  \n",
    "- **Lack of paired MRI-genomic data**, impacting **biomarker validation & segmentation accuracy**.  \n",
    "- **Lab collaborations** can bridge this gap, leading to breakthroughs in **cancer diagnosis & treatment**.  \n",
    "  \n",
    "\n",
    "\n",
    "\n",
    "# **1)Multi-Modal AI for Brain Tumor Analysis**  \n",
    "\n",
    "## MRI Segmentation | Biomarker Identification | Gene Expression Profiling  \n",
    "\n",
    "### **Revolutionizing Brain Tumor Research with AI**  \n",
    "\n",
    "Cutting-edge AI techniques are transforming how we detect, analyze, and understand brain tumors.  \n",
    "By integrating **MRI segmentation**, **biomarker discovery**, and **gene expression profiling**, we unlock new possibilities for early diagnosis and precision medicine.  \n",
    "\n",
    "---"
   ]
  },
  {
   "cell_type": "markdown",
   "id": "9a9c16cf",
   "metadata": {
    "papermill": {
     "duration": 0.007417,
     "end_time": "2025-03-21T19:21:56.355637",
     "exception": false,
     "start_time": "2025-03-21T19:21:56.348220",
     "status": "completed"
    },
    "tags": []
   },
   "source": [
    "  \n",
    "![Brain Tumor Segmentation](https://i.imgur.com/PhVXfCt.jpeg)\n",
    "\n",
    "*Image Source: [MDPI - Cancers Journal](https://www.mdpi.com/2072-6694/14/16/3902)*\n"
   ]
  },
  {
   "cell_type": "markdown",
   "id": "a575edb0",
   "metadata": {
    "papermill": {
     "duration": 0.007451,
     "end_time": "2025-03-21T19:21:56.370881",
     "exception": false,
     "start_time": "2025-03-21T19:21:56.363430",
     "status": "completed"
    },
    "tags": []
   },
   "source": [
    "\n",
    "## **1.1) Background: From Emergency Room to AI-Driven Tumor Analysis**  \n",
    "\n",
    "### **When a patient arrives at the Emergency Room (ER) with neurological symptoms such as speech impairment, vision disturbances, severe headaches, seizures, cognitive decline, or motor dysfunction, a structured diagnostic workflow is initiated to assess the possibility of a brain tumor.**\n",
    "  \n",
    "\n",
    "### **1.2) Diagnostic Process**  \n",
    "\n",
    "| **Step** | **Description** | **Purpose** |\n",
    "|---------|----------------|------------|\n",
    "| **🔹 Step 1 - MRI Imaging** | **First-line diagnostic tool** used in the ER for **initial tumor detection and localization**. MRI scans reveal the **size, shape, and location** of potential brain tumors. | **Identifies tumor presence and anatomical structure.** |\n",
    "| **🔹 Step 2 - Liquid Biopsy (ctDNA, RNA, Protein Analysis)** | **Minimally invasive blood test** to identify **tumor-specific molecular markers**. Provides **early tumor characterization** before invasive procedures. | **Detects tumor-related biomarkers before surgery.** |\n",
    "| **🔹 Step 3 - Circulating Tumor DNA (ctDNA) Isolation** | Blood samples are processed to extract **tumor-derived DNA fragments (ctDNA)**. Enables **molecular tumor profiling**, providing insights into **tumor heterogeneity** and genetic mutations. | **Helps profile tumor genetics without invasive biopsies.** |\n",
    "| **🔹 Step 4 - Next-Generation Sequencing (NGS) Process** | High-throughput sequencing (**DNA-Seq, RNA-Seq**) detects **mutations and biomarker variations**. Helps identify **tumor subtype and progression risk**. | **Determines genetic mutations linked to tumor growth.** |\n",
    "| **🔹 Step 5 - Mutation Detection & AI-Based Classification** | AI-driven models analyze **MRI scans + genetic biomarkers** to improve **tumor classification**. Enhances **personalized treatment strategies** based on **tumor mutations** and molecular signatures. | **Refines tumor classification and supports AI-assisted precision medicine.** |"
   ]
  },
  {
   "cell_type": "markdown",
   "id": "e6a4cc54",
   "metadata": {
    "papermill": {
     "duration": 0.007671,
     "end_time": "2025-03-21T19:21:56.386581",
     "exception": false,
     "start_time": "2025-03-21T19:21:56.378910",
     "status": "completed"
    },
    "tags": []
   },
   "source": [
    "## **1.3) Abstract**  \n",
    "\n",
    "Brain tumor detection, segmentation, and molecular characterization are pivotal for advancing **precision oncology**.  \n",
    "Traditional diagnostic methodologies, which primarily rely on **manual interpretation by radiologists and pathologists**, limit the **scalability, accuracy, and reproducibility** of tumor analysis.  \n",
    "\n",
    "Additionally, manual interpretation **slows down diagnosis**, which can be **critical in cases requiring urgent medical decisions**. For instance, a patient **without a brain tumor** but with another **life-threatening neurological condition** may experience **delays in receiving the correct diagnosis and treatment**, impacting their **surgical or therapeutic intervention timeline**.  To overcome these challenges, this study introduces an **automated multi-modal AI pipeline**, integrating **deep learning-based object detection, segmentation, and biomarker discovery** for more accurate and scalable tumor classification.  The pipeline utilizes **state-of-the-art deep learning models**—**YOLO, Detectron, and the Segment Anything Model (SAM)**—for **MRI-based tumor detection and segmentation**.  \n",
    "Complementing imaging-based models, **gene expression analysis (RNA-Seq)** is employed to identify molecular biomarkers correlating with tumor characteristics.  \n",
    "**Differential gene expression analysis** pinpoints significant biomarkers (**GFAP, Sox2, KLF4, Nanog**) implicated in **tumor heterogeneity and progression**.  To refine segmentation accuracy, **reinforcement learning techniques (GRPO & PPO)** are integrated, reducing **false negatives** and improving **tumor boundary precision**.  \n",
    "These techniques enable continuous learning, enhancing detection and segmentation performance across **complex tumor morphologies**.  \n",
    "\n",
    "**Statistical validation methods (ANOVA, Tukey HSD, F1-score, IoU, and Dice coefficient)** ompare segmentation performance and ensure statistical robustness models across tumor types, revealing significant variability and emphasizing the necessity for **adaptable AI models** capable of generalizing across **diverse tumor morphologies**.  \n",
    "\n",
    "⚠ **Critical Limitation:**  \n",
    "The **lack of paired MRI and gene expression data** restricts direct validation of **biomarker influence on segmentation accuracy**.  \n",
    "While gene expression analysis identifies **key biomarkers linked to tumor heterogeneity**, the absence of **clinically matched datasets** prevents a **direct correlation** between imaging and molecular data.  \n",
    "This challenge underscores the need for **patient-matched datasets**, which would enable a **more precise evaluation of biomarker-driven segmentation models** and allow full **statistical hypothesis testing**.  \n",
    "\n",
    "## **1.4) Why It Matters**  \n",
    "\n",
    "Breakthroughs in **AI-driven tumor research** can **enhance tumor detection and segmentation**, **identify key genetic biomarkers for precision oncology**, and **enable personalized treatment strategies for patients**, ultimately improving diagnostic accuracy and patient outcomes in brain tumor analysis.\n"
   ]
  },
  {
   "cell_type": "markdown",
   "id": "5ed0cca9",
   "metadata": {
    "papermill": {
     "duration": 0.007619,
     "end_time": "2025-03-21T19:21:56.402065",
     "exception": false,
     "start_time": "2025-03-21T19:21:56.394446",
     "status": "completed"
    },
    "tags": []
   },
   "source": [
    "# **2) Problem Statement & Research Hypothesis**  \n",
    "\n",
    "## **2.1) Objective**  \n",
    "\n",
    "| **Aspect**            | **Description** |\n",
    "|----------------------|---------------|\n",
    "| **Problem Statement** | Traditional **Magnetic Resonance Imaging (MRI) interpretation by radiologists and pathologists** for **brain tumor detection** presents several challenges:<br>✔ **Time-consuming and labor-intensive**, delaying critical treatment decisions.<br>✔ **Subjective and prone to inter-observer variability**, leading to inconsistent diagnoses.<br>✔ **Susceptible to errors and inconsistencies** due to human interpretation.<br><br>🔹 **Need for AI Integration**<br>This study develops an advanced **multi-modal AI pipeline** integrating:<br>- **Object detection** – MRI-based tumor localization using **YOLO 11**.<br>- **Segmentation models** – Deep learning-based tumor boundary delineation using **SAM2**.<br>- **Biomarker discovery** – Gene expression profiling from RNA-Seq data.<br>- **Statistical validation techniques** – Performance assessment through **ANOVA, Tukey HSD, F1-score, IoU, Dice coefficient, and Hausdorff Distance**. |\n",
    "| **Objective** | This research evaluates the **performance of deep learning models**, including **YOLO 11 (Fine-Tuned & YOLO+SAM2), Point-Based SAM2, and Detectron2**, for **tumor detection, localization, and segmentation**.<br>Additionally, it investigates how **biomarker expression (GFAP, Sox2, KLF4, Nanog, etc.)** influences segmentation accuracy.<br><br>### **Key Aspects of Tumor Characterization:**<br>✔ **Tumor Type Classification:** Identifying **gliomas, meningiomas, pituitary tumors, or other brain malignancies**.<br>✔ **Tumor Morphology & Structure:** Assessing whether the tumor is **homogeneous or heterogeneous**.<br>✔ **Depth of Tumor Invasion:** Evaluating the **extent of tumor infiltration** into adjacent brain regions.<br>✔ **Tumor Texture & Intensity:** Measuring **contrast, shape, and boundaries** to improve segmentation precision.<br><br>**Reinforcement learning techniques (GRPO & PPO)** are also explored to further optimize segmentation accuracy, reduce false negatives, and adaptively refine tumor boundaries over multiple iterations. |\n",
    "\n",
    "### 2.2) Key Aspects of Tumor Characterization:\n",
    "\n",
    "| **Challenge** | **Description** |\n",
    "|--------------|----------------|\n",
    "| **Comparative Performance Analysis** | Evaluating different object detection and segmentation models, including **YOLO+SAM, Point-Based SAM, and Detectron2**. |\n",
    "| **Statistical Validation** | Using **ANOVA, Tukey HSD, F1-score, IoU, and Dice coefficient** to compare segmentation performance and ensure statistical robustness. |\n",
    "| **Effect of Tumor Heterogeneity** | Investigating how variations in tumor morphology (homogeneous vs. heterogeneous structures) impact segmentation accuracy. |\n",
    "| **Impact of Reinforcement Learning** | Refining segmentation with **GRPO & PPO** to enhance boundary precision and reduce false negatives. |\n",
    "| **Biomarker & Gene Expression Integration** | Assessing how molecular biomarkers influence AI-based segmentation, focusing on key tumor markers (GFAP, Sox2, KLF4, etc.). |\n",
    "| **Lack of Paired MRI & Gene Expression Data** | Limiting statistical validation due to privacy-restricted datasets from **Genomics England, UK Biobank, NIH, and Northwestern University Cancer Center**. **Lab collaboration is required** to obtain fully paired datasets. |\n"
   ]
  },
  {
   "cell_type": "markdown",
   "id": "46ba4b7d",
   "metadata": {
    "papermill": {
     "duration": 0.007792,
     "end_time": "2025-03-21T19:21:56.417622",
     "exception": false,
     "start_time": "2025-03-21T19:21:56.409830",
     "status": "completed"
    },
    "tags": []
   },
   "source": [
    "\n",
    "# **3.2 Null Hypothesis Testing: Statistical Analysis of Object Detection and Segmentation**\n",
    "\n",
    "The following table outlines the **null hypotheses (H₀₁ - H₀₁₀)** along with the **statistical tests used** and **performance metrics** applied for validation.\n",
    "\n",
    "---\n",
    "\n",
    "## **3.2.1)Summary of Hypothesis Testing and Performance Metrics**  \n",
    "\n",
    "| **Hypothesis** | **Description** | **Test Used** | **Statistical Metrics** |\n",
    "|--------------|-----------------|--------------|-------------------------|\n",
    "| **H₀₁** | **Pre-labeled ground truths** and **AI-predicted segmentation masks** have no significant difference. | **ANOVA** | **IoU, Dice Similarity** |\n",
    "| **H₀₂** | All **models perform equally in terms of F1-score**. | **ANOVA & Tukey HSD** | **F1 Score, Precision-Recall Curve, mAP (Mean Average Precision)** |\n",
    "| **H₀₃** | **Fine-Tuned YOLO is the best available object detection method**, and YOLO+SAM provides optimal segmentation. | **Tukey HSD** | **IoU, Dice Score, Hausdorff Distance** |\n",
    "| **H₀₄** | **Heterogeneity in tumor morphology does not significantly impact segmentation accuracy.** | **ANOVA & Tukey HSD** | **IoU Variance, Boundary Precision, Hausdorff Distance** |\n",
    "| **H₀₅** | **GRPO does not significantly reduce false negatives compared to standard deep learning models.** | **ANOVA & Tukey HSD** | **False Negative Rate (FNR), Recall (Sensitivity), AUC-ROC** |\n",
    "| **H₀₆** | **PPO does not provide statistically significant improvements in segmentation boundary precision.** | **ANOVA** | **Dice Score, Hausdorff Distance, IoU Variability** |\n",
    "| **H₀₇** | **There is no statistically significant difference in gene expression across tumor types (Glioma, Meningioma, Pituitary Tumors).** | **ANOVA on RNA-Seq data** | **Differential Gene Expression (Log2 FC, p-values), PCA, Clustering Variance** |\n",
    "| **H₀₈** | **Gene expression biomarker signatures (GFAP, Sox2, KLF4, Nanog) do not correlate with tumor segmentation performance.** | **Pearson Correlation (if feasible)** | **Pearson/Spearman Correlation, Q1-Q3 Distributions, Principal Component Analysis (PCA)** |\n",
    "| **H₀₉** | **Tumors with high Sox2 and Nanog expression do not differ in segmentation difficulty from those with lower expression.** | **ANOVA, Tukey HSD, t-Test** | **Segmentation Difficulty Score, IoU Variance, False Negative Rate (FNR)** |\n",
    "| **H₀₁₀** | **The lack of paired gene expression and MRI data does not impact the validity of segmentation results.** | **Qualitative Assessment** | **Inter-model segmentation variance, t-SNE clustering of shared unlabeled points, Clustering Validation Score** |\n",
    "\n",
    "\n",
    "\n",
    "### **3.2.2) Interpretation of Results**  \n",
    "\n",
    "| **Interpretation & Key Insights** | **Evaluation Approach** | **Impact on Analysis** |\n",
    "|--------------------------------|----------------------------|----------------------------|\n",
    "| **Rejecting a null hypothesis (H₀) confirms a statistically significant difference in model performance.** | **Statistical hypothesis testing using ANOVA & Tukey HSD** | **Ensures segmentation models perform distinctively rather than randomly.** |\n",
    "| **The F1-score, segmentation accuracy, and impact of tumor heterogeneity are validated using ANOVA & Tukey HSD tests.** | **Assess model performance across various tumor morphologies.** | **Provides evidence that certain tumor types are harder to segment.** |\n",
    "| **Fine-Tuned YOLO & Point-Based SAM are expected to show the highest segmentation improvements.** | **Model comparison based on segmentation precision metrics.** | **Identifies the best-performing segmentation approach for tumor detection.** |\n"
   ]
  },
  {
   "cell_type": "markdown",
   "id": "e6a95d49",
   "metadata": {
    "papermill": {
     "duration": 0.007466,
     "end_time": "2025-03-21T19:21:56.433070",
     "exception": false,
     "start_time": "2025-03-21T19:21:56.425604",
     "status": "completed"
    },
    "tags": []
   },
   "source": [
    "# **3.3) Evaluation Metrics** :\n",
    "\n",
    "## **3.3.1) Summary of Object Detection, Segmentation, and Hypothesis Testing Metrics**  \n",
    "\n",
    "| **Metric** | **Formula** | **Purpose** | **Interpretation** |\n",
    "|-----------|------------|-------------|-------------------|\n",
    "| **F1-Score (Detection Accuracy)** | $$ F1 = \\frac{2 \\times \\text{Precision} \\times \\text{Recall}}{\\text{Precision} + \\text{Recall}} $$ | Measures trade-off between **precision** and **recall** in object detection. | **Higher F1-score → Better detection performance (low false positives & false negatives).** |\n",
    "| **Precision** | $$ \\text{Precision} = \\frac{TP}{TP + FP} $$ | Measures how many detected tumors are **correctly classified**. | **Higher Precision → Fewer false positives.** |\n",
    "| **Recall (Sensitivity)** | $$ \\text{Recall} = \\frac{TP}{TP + FN} $$ | Measures how many **actual tumors** are successfully detected. | **Higher Recall → Fewer false negatives.** |\n",
    "| **Intersection over Union (IoU) – Segmentation Accuracy** | $$ IoU = \\frac{\\text{Area of Overlap}}{\\text{Area of Union}} $$ | Measures **overlap** between predicted and ground truth tumor segmentation masks. | **Higher IoU → More precise segmentation.** |\n",
    "| **ANOVA (Analysis of Variance)** | $$ F = \\frac{\\text{Between-group variance}}{\\text{Within-group variance}} $$ | Detects **statistical differences** between models. | **p < 0.05 → Models differ significantly.** |\n",
    "| **Tukey's Honest Significant Difference (HSD) Test** | $$ HSD = \\frac{\\text{Mean Difference Between Groups}}{\\text{Standard Error}} $$ | Performs **pairwise comparisons** between models. | **p < 0.05 → Significant difference between models.** |\n",
    "## **3.3.2) Summary of Evaluation Approach**  \n",
    "\n",
    "| **Evaluation Component** | **Role in Model Validation** |\n",
    "|------------------------|----------------------------|\n",
    "| **F1-Score** | Assesses **detection accuracy** of tumor identification. |\n",
    "| **IoU (Intersection over Union)** | Evaluates **segmentation precision** to measure mask overlap with ground truth. |\n",
    "| **ANOVA** | Detects **statistical differences** between model performances. |\n",
    "| **Tukey HSD** | Identifies **significant pairwise differences** between models. |\n"
   ]
  },
  {
   "cell_type": "markdown",
   "id": "791e2be4",
   "metadata": {
    "papermill": {
     "duration": 0.00748,
     "end_time": "2025-03-21T19:21:56.448186",
     "exception": false,
     "start_time": "2025-03-21T19:21:56.440706",
     "status": "completed"
    },
    "tags": []
   },
   "source": [
    "# **4. Data Methodology & Algorithm Development**  \n",
    "\n",
    "This section outlines the **step-by-step approach** used for **data preprocessing, object detection, segmentation, biomarker discovery, and statistical validation**.\n",
    "\n",
    "---\n",
    "\n",
    "## **4.1 Biomarker Discovery & Gene Expression Analysis**  \n",
    "\n",
    "### **4.1.1)Objective:**  Identify differentially expressed genes (DEGs) and validate biomarkers for AI-driven classification.\n",
    "\n",
    "| **Step** | **Process** | **Key Actions** |\n",
    "|---------|-----------|---------------|\n",
    "| **Step 1** | **Load Gene Expression Dataset** | Extract **RNA-Seq data** from tumor samples. Normalize gene expression levels using standard scaling methods. |\n",
    "| **Step 2** | **Differential Gene Expression Analysis (DGEA)** | Compute **fold-change & p-values** for all genes. Filter significant DEGs using thresholds (**\\(p < 0.05\\), log\\(_2\\)FC > 1**). |\n",
    "| **Step 3** | **Statistical Validation of Biomarkers** | Perform **ANOVA test** to check if gene expression varies significantly across tumor types. Conduct **Tukey HSD post-hoc analysis** to confirm pairwise differences. |\n",
    "\n",
    "---\n",
    "\n",
    "## **4.2 Algorithm: Object Detection & Segmentation**  \n",
    "\n",
    "### **4.2.1)Objective:**  Train deep learning models for **tumor detection & segmentation**.\n",
    "\n",
    "| **Step** | **Process** | **Key Actions** |\n",
    "|---------|-----------|---------------|\n",
    "| **Step 1** | **Load MRI Dataset** | Include tumor types: **Glioma, Meningioma, Pituitary Tumors, Non-Tumor Cases**. |\n",
    "| **Step 2** | **Data Augmentation** | Apply **flipping, scaling, color jittering, shear, rotation, mosaic, and mixup techniques** for enhanced generalization. |\n",
    "| **Step 3** | **Dataset Partitioning** | Split dataset into **Training (70%)**, **Validation (15%)**, and **Testing (15%)**. |\n",
    "| **Step 4** | **Object Detection (YOLO & Detectron2)** | Train **YOLOv11** and **Detectron2** to **localize tumors**. Optimize **loss function** for detection accuracy. |\n",
    "| **Step 5** | **Segmentation with SAM** | Use **Segment Anything Model (SAM)** to refine tumor masks. Utilize **YOLO bounding boxes** as guidance. |\n",
    "| **Step 6** | **Hybrid YOLO+SAM Model** | Train **YOLO+SAM** to enhance tumor boundary delineation by using YOLO's output as input to SAM. |\n",
    "| **Step 7** | **Point-Based SAM for Precision** | Utilize **user-defined key points** for refining segmentation accuracy. |\n",
    "| **Step 8** | **Region-Based Segmentation (Detectron2)** | Train **Mask R-CNN** for structured segmentation. |\n",
    "\n",
    "---"
   ]
  },
  {
   "cell_type": "markdown",
   "id": "f560287d",
   "metadata": {
    "papermill": {
     "duration": 0.007575,
     "end_time": "2025-03-21T19:21:56.463451",
     "exception": false,
     "start_time": "2025-03-21T19:21:56.455876",
     "status": "completed"
    },
    "tags": []
   },
   "source": [
    "## **4.3) Performance Optimization Using Reinforcement Learning**  \n",
    "\n",
    "| **Method** | **Objective** | **Expected Benefit** | **Additional Performance Metrics** | **Statistical Tests Used** |\n",
    "|-----------|-------------|---------------------|------------------------------|----------------------|\n",
    "| **GRPO (Guided Reward Policy Optimization)** | Reduce false negatives | Minimizes incorrect tumor non-detection. | **Sensitivity (Recall), Specificity, AUC-ROC** | **ANOVA, Tukey HSD, Wilcoxon Signed-Rank Test** |\n",
    "| **PPO (Proximal Policy Optimization)** | Improve segmentation boundary precision | Ensures more **accurate delineation** of tumor regions. | **Dice Coefficient, Hausdorff Distance, IoU Variability** | **Kruskal-Wallis Test, Paired t-test, Bland-Altman Analysis** |\n",
    "\n",
    "---\n",
    "\n",
    "### **4.3.1)Final Notes:**  \n",
    "\n",
    "- **GRPO focuses on minimizing false negatives**, improving **sensitivity and recall**.  \n",
    "- **PPO enhances segmentation boundary precision**, optimizing **Hausdorff Distance and Dice Coefficient**.  \n",
    "- **Statistical tests (ANOVA, Wilcoxon, Kruskal-Wallis, Bland-Altman Analysis) validate performance improvements.**  \n",
    "- **Advanced metrics (AUC-ROC, IoU Variability) ensure a well-rounded evaluation of model effectiveness.**  \n",
    "\n",
    "---"
   ]
  },
  {
   "cell_type": "markdown",
   "id": "63d338af",
   "metadata": {
    "papermill": {
     "duration": 0.008475,
     "end_time": "2025-03-21T19:21:56.479876",
     "exception": false,
     "start_time": "2025-03-21T19:21:56.471401",
     "status": "completed"
    },
    "tags": []
   },
   "source": [
    "## **5.3 Critical Limitation: Lack of Paired Data for Gene Expression and MRI Scans**  \n",
    "\n",
    "![Brain Tumor Segmentation](https://i.imgur.com/I84W9Yu.jpeg)\n",
    "\n",
    "### **5.3.1)Key Issues and Impact**  \n",
    "\n",
    "| **Issue** | **Impact on Analysis** |\n",
    "|-------|------------------------|\n",
    "| **Gene expression and MRI scans are not from the same patients** | Prevents **direct correlation** between molecular and imaging data. |\n",
    "| **Testing hypotheses requires paired datasets** | Statistical validation (**ANOVA, Pearson correlation**) is **not possible**. |\n",
    "| **Reliance on public datasets** | Limits **validation** of **biomarker influence on AI-driven tumor segmentation**. |\n",
    "\n",
    "### **5.3.2)Why Is This a Challenge?**  \n",
    "\n",
    "| **Requirement** | **Current Status** | **Impact on Analysis** |\n",
    "|------------|------------------|----------------|\n",
    "| **Paired MRI & Gene Expression Data** | ❌ Not available in current datasets | Prevents testing of **biomarker impact**. |\n",
    "| **Clinical Validation** | ❌ Limited due to dataset constraints | **Statistical tests** (ANOVA, Pearson correlation) **cannot establish biomarker influence**. |\n",
    "| **AI Multi-Modal Learning** | 🚫 Not feasible due to unpaired datasets | Lack of **integrated imaging & molecular data** prevents **robust classification models**. |\n",
    "| **Lab & Research Collaboration** | 🔹 Needed for dataset expansion | **Essential** to generate **clinically relevant paired datasets**. |\n",
    "\n",
    "\n",
    "\n"
   ]
  },
  {
   "cell_type": "markdown",
   "id": "b4785cf2",
   "metadata": {
    "papermill": {
     "duration": 0.007713,
     "end_time": "2025-03-21T19:21:56.495458",
     "exception": false,
     "start_time": "2025-03-21T19:21:56.487745",
     "status": "completed"
    },
    "tags": []
   },
   "source": [
    "# **5.4) Algorithm: Object Detection & Segmentation**  \n",
    "\n",
    "## **5.4.1) Objective:**  \n",
    "Train deep learning models for tumor detection & segmentation.\n",
    "\n",
    "---\n",
    "\n",
    "## **5.4.2)Algorithm Steps**  \n",
    "\n",
    "| **Step**  | **Process**                                      | **Description**  |\n",
    "|-----------|-------------------------------------------------|------------------|\n",
    "| **Step 1** | Object Detection using YOLO                     | Train **YOLOv8** to localize tumors and optimize **loss function** for detection accuracy. |\n",
    "| **Step 2** | Segmentation with SAM                           | **Segment Anything Model (SAM)** refines tumor masks using **YOLO bounding boxes** as guides. |\n",
    "| **Step 3** | Hybrid YOLO+SAM Model                          | **YOLO+SAM** enhances tumor boundary delineation. |\n",
    "| **Step 4** | Point-Based SAM for Precision                  | User-defined **key points** refine segmentation accuracy. |\n",
    "| **Step 5** | Region-Based Segmentation with Detectron2      | **Mask R-CNN** is trained for structured segmentation. |\n",
    "\n",
    "---\n",
    "\n",
    "## **5.4.3)Reinforcement Learning for Optimization**  \n",
    "\n",
    "| **Method**  | **Purpose**  |\n",
    "|------------|------------|\n",
    "| **GRPO (Guided Reward Policy Optimization)** | Minimizes false negatives. |\n",
    "| **PPO (Proximal Policy Optimization)** | Enhances segmentation boundary precision. |\n",
    "\n",
    "---\n",
    "\n",
    "# **5.5) AI-Based Imaging Segmentation Results**  \n",
    "\n",
    "## **5.5.1)Evaluation of Segmentation Performance**  \n",
    "\n",
    "| **Model** | **Improvement**  |\n",
    "|-----------|------------------|\n",
    "| **YOLO + SAM Hybrid Model** | Improves tumor detection accuracy. |\n",
    "| **Point-Based SAM** | Refines segmentation for complex tumor morphologies. |\n",
    "| **Reinforcement Learning (GRPO & PPO)** | Enhances segmentation boundary precision. |\n",
    "\n",
    "---\n",
    "\n",
    "## **5.5.2)Performance Metrics for Segmentation**  \n",
    "\n",
    "| **Metric**  | **Definition** | **Purpose**  |\n",
    "|------------|---------------|-------------|\n",
    "| **F1 Score** | Harmonic mean of precision & recall. | Measures tumor detection accuracy. |\n",
    "| **IoU (Intersection over Union)** | Ratio of overlap between predicted and ground truth masks. | Evaluates segmentation precision. |\n",
    "| **Dice Coefficient (DSC)** | Measures similarity between predicted and actual segmentation. | Used for medical image segmentation validation. |\n",
    "| **Hausdorff Distance (HD)** | Measures maximum deviation between predicted and ground truth boundaries. | Evaluates segmentation boundary accuracy. |\n",
    "| **Pixel Accuracy** | Percentage of correctly classified pixels. | Measures overall segmentation correctness. |\n",
    "| **Sensitivity (Recall)** | True positive rate of tumor segmentation. | Evaluates model's ability to detect all tumor pixels. |\n",
    "| **Specificity** | True negative rate of tumor segmentation. | Measures the model's ability to avoid false positives. |\n",
    "\n",
    "---\n",
    "\n",
    "## **5.5.3)Final Notes:**  \n",
    "✔ Optimized AI models (**YOLO 11, Detectron2, SAM 2**) for tumor detection & segmentation.  \n",
    "✔ **Reinforcement learning** methods improve model robustness.  \n",
    "✔ Performance evaluated using **F1 Score, IoU, Dice Coefficient, Hausdorff Distance, and more**.  \n",
    "\n",
    "---"
   ]
  },
  {
   "cell_type": "markdown",
   "id": "1d3b5cf0",
   "metadata": {
    "papermill": {
     "duration": 0.007503,
     "end_time": "2025-03-21T19:21:56.510917",
     "exception": false,
     "start_time": "2025-03-21T19:21:56.503414",
     "status": "completed"
    },
    "tags": []
   },
   "source": [
    "<!--\n",
    "$$ F = \\frac{\\text{MS}_\\text{between}}{\\text{MS}_\\text{within}}, \\quad F \\sim F(k-1, N-k) $$\n",
    "-->\n",
    "\n",
    "# **6. Transitioning to Data Processing and Model Training**  \n",
    "\n",
    "Now that we have outlined the **pseudocode workflow for image processing**, we proceed with the **practical implementation** by loading and preprocessing the **Perturbation Dataset for Brain Tumor Analysis**.\n",
    "\n",
    "---\n",
    "\n",
    "## **6.1) Dataset Acquisition, Preprocessing, and Exploration**  \n",
    "\n",
    "| **Step** | **Process** | **Description** |\n",
    "|---------|------------|----------------|\n",
    "| **Step 1** | **Load MRI Dataset** | Includes **Glioma, Meningioma, Pituitary Tumors, and Non-Tumor Cases**. |\n",
    "| **Step 2** | **Data Augmentation** | Reduces overfitting and enhances tumor detection robustness. |\n",
    "| **Step 3** | **Split Data into Train, Validation, and Test Sets** | Ensures **fair model evaluation and avoids data leakage**. |\n",
    "| **Step 4** | **Store Preprocessed Data and Ground Truth Masks** | Organizes dataset for **training and statistical evaluation**. |\n",
    "| **Step 5** | **Analyze Tumor Morphology** | Dataset includes **Homogeneous** (uniform shape) and **Heterogeneous** (structural variation) tumors. |\n",
    "\n",
    "---\n",
    "\n",
    "## **6.2) Dataset Composition and Visual Overview**  \n",
    "\n",
    "\n",
    "<td width=\"50%\">\n",
    "    <img src=\"https://i.imgur.com/v22v7No.png\" width=\"100%\" style=\"border-radius: 10px;\">\n",
    "</td>\n",
    "<td width=\"50%\" valign=\"top\">\n",
    "\n",
    "### **6.2.1)Dataset Composition**  \n",
    "\n",
    "| **Image ID** | **Tumor Type** |\n",
    "|-------------|---------------|\n",
    "| **Glioma_303** | Meningioma |\n",
    "| **Meningioma_1133** | Meningioma |\n",
    "| **Glioma_1025** | Glioma |\n",
    "| **Glioma_1128** | Glioma |\n",
    "| **Meningioma_1298** | Meningioma |\n",
    "\n",
    "### **6.2.2)Data Split for Model Training**  \n",
    "\n",
    "| **Dataset Split** | **Percentage** | **Purpose** |\n",
    "|------------------|--------------|------------|\n",
    "| **Training Set** | **70%** | Used for model learning |\n",
    "| **Validation Set** | **15%** | Used for hyperparameter tuning |\n",
    "| **Testing Set** | **15%** | Used for final model assessment |\n",
    "\n",
    "### **6.2.3)Why This Matters**  \n",
    "\n",
    "Enhancing generalization ensures the model performs well on unseen data. Improved segmentation and detection accuracy help adapt to various tumor shapes, leading to precise medical analysis. Robust performance strengthens the AI model across different tumor morphologies and texture densities\n"
   ]
  },
  {
   "cell_type": "markdown",
   "id": "07127542",
   "metadata": {
    "papermill": {
     "duration": 0.007499,
     "end_time": "2025-03-21T19:21:56.526393",
     "exception": false,
     "start_time": "2025-03-21T19:21:56.518894",
     "status": "completed"
    },
    "tags": []
   },
   "source": [
    "\n",
    "# **6.3 Representative Model Selection for Result Presentation**  \n",
    "\n",
    "To streamline the presentation of results and **avoid redundancy**, we provide a **detailed analysis based on a single representative image**, while ensuring that **all five images are included in the overall statistical evaluation**.\n",
    "\n",
    "\n",
    "## **6.3.1) Why Use a Representative Image?**  \n",
    "\n",
    "| **Reason** | **Impact** |\n",
    "|------------|-----------|\n",
    "| **Trends remain consistent across different tumor samples** | Allows meaningful observations without unnecessary repetition. |\n",
    "| **Enhances clarity without overwhelming the analysis** | Focused discussion leads to better result interpretation. |\n",
    "| **Comprehensive evaluation still includes all five tumor samples** | Ensures statistical reliability while keeping presentation concise. |\n",
    "\n",
    "\n",
    "## **6.3.2) Selected Tumor Samples for Statistical Analysis**  \n",
    "\n",
    "\n",
    "| **Selected Image** | **Purpose** |\n",
    "|-------------------|-------------|\n",
    "| **🔹 Glioma_1128 🔹** | **Chosen for in-depth evaluation as a representative case.** |\n",
    "| **Glioma_303** | Included in statistical comparison. |\n",
    "| **Meningioma_1133** | Included in statistical comparison. |\n",
    "| **Glioma_1025** | Included in statistical comparison. |\n",
    "| **Meningioma_1298** | Included in statistical comparison. |\n",
    "\n",
    "\n",
    "### **Glioma_1128 is highlighted as the primary image for detailed analysis while keeping all five images in the overall statistical evaluation.**\n",
    "\n",
    "\n",
    "\n"
   ]
  },
  {
   "cell_type": "markdown",
   "id": "521982d9",
   "metadata": {
    "papermill": {
     "duration": 0.007618,
     "end_time": "2025-03-21T19:21:56.542169",
     "exception": false,
     "start_time": "2025-03-21T19:21:56.534551",
     "status": "completed"
    },
    "tags": []
   },
   "source": [
    "# 6.4) Object Detection & Segmentation Performance\n",
    "\n",
    "In this section, we evaluate and compare the performance of various models on both **object detection** and **segmentation** tasks for brain tumor identification. The goal is to assess each model’s ability to **accurately detect**, **classify**, and **segment** tumors with attention to heterogeneity and boundary precision.\n",
    "\n",
    "\n",
    "## 6.4.1) Object Detection Comparison\n",
    "\n",
    "We begin with object detection, where the primary goal is to localize and classify tumors within brain MRI scans. Below is a comparison of three models, highlighting their detection accuracy and ability to handle tumor diversity.\n",
    "\n",
    "### **Object Detection Model Performance**\n",
    "\n",
    "| **Detection Model** | **Performance** | **Key Observations** |\n",
    "|---------------------|------------------|------------------------|\n",
    "| **Detectron 2** | **Lower confidence score (0.51)** with limited classification capabilities. | Struggles with tumor heterogeneity, often missing variations in tumor types. |\n",
    "| **YOLO 11** | **Moderate confidence (0.75)** and improved detection. | Successfully identifies multiple tumor types but lacks precision in detecting structural differences. |\n",
    "| **Fine-Tuned YOLO 11** | **Highest accuracy and tumor localization.** | Accurately detects **meningioma, pituitary, and glioma**, showcasing superior recognition of tumor diversity. |\n",
    "\n",
    "> **Conclusion:** The Fine-Tuned YOLO 11 model significantly outperforms the others in terms of detection accuracy, confidence score, and its ability to recognize diverse tumor types, making it an effective solution for automated brain tumor detection.\n",
    "\n",
    "---\n",
    "\n",
    "## 6.4.2) Segmentation Comparison\n",
    "\n",
    "Using the same visual results above, we now focus on **tumor segmentation**, where the goal is to precisely delineate tumor boundaries for better morphological understanding.\n",
    "\n",
    "### **Segmentation Model Performance**\n",
    "\n",
    "| **Segmentation Model** | **Performance** | **Key Observations** |\n",
    "|------------------------|------------------|------------------------|\n",
    "| **Detectron 2** | **High confidence with well-defined boundaries.** | Provides clean and precise tumor segmentation. |\n",
    "| **YOLO 11 Segmentation** | **Good localization but less accurate edges.** | Struggles with boundary precision, leading to minor segmentation errors. |\n",
    "| **YOLO 11 + SAM 2** | **Fails to detect tumors on this dataset.** | Unable to handle complex tumor shapes and structures, requiring more refinement. |\n",
    "\n",
    "> 🔹 **Conclusion:** While Detectron 2 excels at segmenting tumor regions with high accuracy, YOLO-based segmentation needs further improvements—especially in capturing fine structural variations.\n",
    "\n",
    "\n",
    "## 6.4.3) Visual Output: Detection & Segmentation\n",
    "All the images below illustrate both **object detection (top row)** and **segmentation (bottom row)** results across various models.\n",
    "\n",
    "![Detection & Segmentation Results1](https://i.imgur.com/P3RkPN6.jpeg)\n",
    "_Comparison of different models in detecting and segmenting glioma, showing confidence variations and structural accuracy._\n",
    "\n",
    "![Detection & Segmentation Results2](https://i.imgur.com/D4hsHZa.jpeg)\n",
    "_Analysis of meningioma detection across models, highlighting segmentation accuracy and boundary precision._\n",
    "\n",
    "![Detection & Segmentation Results3](https://i.imgur.com/HyvfVZa.jpeg)\n",
    "_Another glioma case demonstrating differences in detection reliability and segmentation robustness._\n",
    "\n",
    "![Detection & Segmentation Results4](https://i.imgur.com/U1m4kwZ.jpeg)\n",
    "_Illustration of how models perform tumor detection and segmentation in a sagittal (side-profile) MRI scan._\n",
    "\n",
    "![Detection & Segmentation Results5](https://i.imgur.com/SU5tAJ1.jpeg)\n",
    "_A second meningioma case, assessing model performance in detecting and segmenting complex tumor structures._\n",
    "\n",
    "\n",
    "## 6.4.4) Summary  \n",
    "By analyzing the object detection and segmentation results across multiple cases:  \n",
    "\n",
    "- **Fine-Tuned YOLO 11** demonstrates **the highest detection accuracy**, effectively identifying multiple tumor types, including **glioma and meningioma** across most cases.  \n",
    "- **Detectron 2** achieves **the best segmentation performance**, producing **precise boundary delineations** and minimizing false segmentation errors.  \n",
    "- **YOLO-based segmentation models** show **strong performance in most images**, particularly in **further fine-tuned YOLO and YOLO + SAM**, indicating **improvements in tumor localization and segmentation accuracy**.  \n",
    "- However, **in Image S5, YOLO + SAM failed to segment tumors properly**, highlighting a key limitation in its ability to handle complex morphologies.  \n",
    "\n",
    "This failure case serves as a **benchmark** for further improvements. To enhance segmentation reliability, we explore **point-based segmentation**, where the output of **SAM** is utilized as an initial point instead of a full region. This transition can help in refining tumor boundaries and improving segmentation accuracy, particularly in cases where **YOLO + SAM struggles** with intricate tumor structures.  \n",
    "\n",
    "Thus, an **optimal tumor detection and segmentation pipeline** should **leverage Fine-Tuned YOLO 11 for detection, Detectron 2 for precise segmentation, and integrate point-based segmentation approaches to address YOLO + SAM's limitations**, ensuring a more **robust and adaptive brain tumor analysis framework**.\n"
   ]
  },
  {
   "attachments": {
    "279bee02-60dd-4b2f-ac58-801bfe1c6998.png": {
     "image/png": "[encoded data removed]"
    },
    "2e2dd8a7-124e-4db3-9067-e3cea9fcf72b.png": {
     "image/png": "[encoded data removed]"
    },
    "6db53af1-ad71-4320-aa00-385f74addcb1.png": {
     "image/png": "[encoded data removed]"
    },
    "d5c16167-3aa1-4cca-a60f-8d0f78675ec4.png": {
     "image/png": "[encoded data removed]"
    }
   },
   "cell_type": "markdown",
   "id": "c70a9807",
   "metadata": {
    "papermill": {
     "duration": 0.007836,
     "end_time": "2025-03-21T19:21:56.558280",
     "exception": false,
     "start_time": "2025-03-21T19:21:56.550444",
     "status": "completed"
    },
    "tags": []
   },
   "source": [
    "# **6.4.5) Enhancing Segmentation Accuracy through Point-Based SAM and Reinforcement Learning**\n",
    "\n",
    "\n",
    "![PointBasedSegmentation](https://i.imgur.com/gUoer0z.jpeg)\n",
    "\n",
    "\n",
    "### **Segmentation Enhancement Methods**\n",
    "| **Method** | **Objective** | **Key Benefit** |\n",
    "|------------|-------------|----------------|\n",
    "| **Point-Based SAM 2** | Uses a **single user-defined point** to guide segmentation for better tumor delineation. | Achieves **higher accuracy (0.96 confidence score)**, effectively capturing misclassified tumor regions. |\n",
    "| **Guided Reward Policy Optimization (GRPO)** | Reinforces **correctly segmented tumor regions** while penalizing **misclassifications**. | **Reduces false negatives**, ensuring more reliable tumor segmentation. |\n",
    "| **Proximal Policy Optimization (PPO)** | Iteratively refines segmentation boundaries through an **adaptive policy framework**. | **Enhances boundary precision**, reducing segmentation inconsistencies. |\n",
    "\n",
    "🔹 **Future research will integrate GRPO and PPO to fully automate segmentation, eliminating manual annotations and enhancing model robustness for real-world clinical applications.**\n"
   ]
  },
  {
   "cell_type": "markdown",
   "id": "bf0db1f8",
   "metadata": {
    "papermill": {
     "duration": 0.007774,
     "end_time": "2025-03-21T19:21:56.574041",
     "exception": false,
     "start_time": "2025-03-21T19:21:56.566267",
     "status": "completed"
    },
    "tags": []
   },
   "source": [
    "# **6.5) Segmentation Comparison & Model Optimization**\n",
    "\n",
    "To evaluate the **performance variability among tumor detection and segmentation models**, we conducted a **one-way ANOVA** on **F1-score** and **Intersection over Union (IoU)**:\n",
    "\n",
    "\n",
    "<td width=\"50%\">\n",
    "    <img src=\"https://i.imgur.com/XY5Htyq.png\" width=\"100%\" style=\"border-radius: 10px;\">\n",
    "</td>\n",
    "<td width=\"80%\" valign=\"top\">\n",
    "\n",
    "### **ANOVA Test Results**\n",
    "| **Evaluation Method** | **Objective** | **Key Findings** | **Implications** |\n",
    "|----------------------|--------------|------------------|------------------|\n",
    "| **ANOVA Test on F1-Score** | Assess detection accuracy variability across models. | **p = 0.018, F = 4.53** → Statistically significant differences in **detection accuracy**. | **Rejects null hypothesis**, confirming that **not all models perform equally**. |\n",
    "| **ANOVA Test on IoU** | Evaluate segmentation precision across models. | **p = 0.032, F = 3.89** → Statistically significant differences in **segmentation performance**. | **Confirms variability in segmentation accuracy**, highlighting the need for further optimization. |\n",
    "\n",
    "### **6.5.1) Reinforcement Learning for Model Refinement**\n",
    "| **Reinforcement Learning Method** | **Objective** | **Key Benefit** |\n",
    "|----------------------------------|--------------|----------------|\n",
    "| **Guided Reward Policy Optimization (GRPO)** | Minimize **false negatives** by reinforcing accurate tumor detections while penalizing misclassifications. | **Enhances detection sensitivity**, reducing missed tumors. |\n",
    "| **Proximal Policy Optimization (PPO)** | Improve **boundary precision** through iterative segmentation refinement. | **Optimizes segmentation accuracy**, ensuring more precise tumor delineation. |\n",
    "\n",
    "\n",
    "🔹 **By combining ANOVA validation with GRPO & PPO reinforcement learning, our model dynamically adapts to complex tumor morphologies, ensuring superior segmentation accuracy and greater clinical reliability.**\n"
   ]
  },
  {
   "cell_type": "markdown",
   "id": "7a80b227",
   "metadata": {
    "papermill": {
     "duration": 0.007863,
     "end_time": "2025-03-21T19:21:56.589978",
     "exception": false,
     "start_time": "2025-03-21T19:21:56.582115",
     "status": "completed"
    },
    "tags": []
   },
   "source": [
    "# **6.6) Tukey HSD Test for Object Detection Models**  \n",
    "\n",
    "\n",
    "<td width=\"50%\">\n",
    "    <img src=\"https://i.imgur.com/OYjvvxz.png\" width=\"100%\" style=\"border-radius: 10px;\">\n",
    "</td>\n",
    "<td width=\"50%\" valign=\"top\">\n",
    "\n",
    "### **6.6.1 Tukey HSD Test: Key Findings & Scientific Implications**  \n",
    "\n",
    "| **Key Findings** | **Scientific Implications** |\n",
    "|----------------|----------------------------|\n",
    "| **Fine-Tuned YOLO significantly outperforms both Detectron and YOLO**, with a **mean difference of 0.364** over **Detectron** and **0.116** over **YOLO**. | **Fine-Tuned YOLO should be prioritized** for tumor detection due to its superior accuracy. |\n",
    "| **All p-values < 0.05, confirming statistically significant differences between models.** | **Rejecting the null hypothesis establishes Fine-Tuned YOLO as the best-performing model** for tumor identification. |\n",
    "| **Since we reject H₀, Fine-Tuned YOLO is the most effective model for tumor detection.** | **Optimal candidate for:** <br> - **Advanced segmentation refinement** <br> - **Integration with reinforcement learning techniques (GRPO & PPO)** <br> - **Hybrid segmentation approaches** for **enhanced tumor delineation** |\n",
    "\n",
    "\n",
    "🔹 **These results establish Fine-Tuned YOLO as the most reliable model for tumor detection, yet further refinements using reinforcement learning (GRPO & PPO) could enhance detection accuracy and robustness for integration with advanced AI-driven segmentation frameworks.**\n"
   ]
  },
  {
   "cell_type": "markdown",
   "id": "8bbcd750",
   "metadata": {
    "papermill": {
     "duration": 0.007653,
     "end_time": "2025-03-21T19:21:56.606094",
     "exception": false,
     "start_time": "2025-03-21T19:21:56.598441",
     "status": "completed"
    },
    "tags": []
   },
   "source": [
    "# **6.7) Tukey HSD Test for Segmentation Models**  \n",
    "\n",
    "\n",
    "<td width=\"50%\">\n",
    "    <img src=\"https://i.imgur.com/IJuNdpa.png\" width=\"100%\" style=\"border-radius: 10px;\">\n",
    "</td>\n",
    "<td width=\"90%\" valign=\"top\">\n",
    "\n",
    "### **6.7.1) Tukey HSD Test: Key Findings & Scientific Implications**  \n",
    "\n",
    "| **Key Findings** | **Scientific Implications** |\n",
    "|----------------|----------------------------|\n",
    "| **Point-Based SAM significantly outperforms Detectron** (**p = 0.0075**), confirming its **superior segmentation capabilities**. | **Point-Based SAM should be prioritized** for segmentation tasks, but further refinement is needed to improve **tumor boundary delineation**. |\n",
    "| **No significant differences were found between YOLO, YOLO+SAM, and Point-Based SAM**, indicating that their **segmentation accuracy is statistically similar**. | **Future research should focus on improving boundary precision** rather than model selection, since current methods show **comparable performance**. |\n",
    "| **Since most p-values > 0.05, we fail to reject the null hypothesis**, meaning these models **do not exhibit statistically different segmentation performance**. | **Reinforcement learning techniques (GRPO & PPO) could improve segmentation robustness** by refining **boundary precision** and **reducing false negatives**. |\n",
    "\n",
    "🔹 **These results suggest that while Point-Based SAM offers enhanced segmentation, further refinements using reinforcement learning (GRPO & PPO) are necessary to improve tumor boundary delineation and segmentation robustness.**\n"
   ]
  },
  {
   "cell_type": "markdown",
   "id": "4ccd81c3",
   "metadata": {
    "papermill": {
     "duration": 0.007557,
     "end_time": "2025-03-21T19:21:56.621542",
     "exception": false,
     "start_time": "2025-03-21T19:21:56.613985",
     "status": "completed"
    },
    "tags": []
   },
   "source": [
    "\n",
    "# **6.8) Comparative Evaluation of Object Detection and Segmentation Models**  \n",
    "\n",
    "To ensure a **comprehensive performance comparison**, we analyzed the **F1-score (detection accuracy)** and **Intersection over Union (IoU, segmentation precision)** across different models.  \n",
    "Although **glioma_1128** is presented as a **representative example**, a thorough evaluation was conducted across all five tumor images, and the **aggregated results** are illustrated through bar charts.\n",
    "\n",
    "---\n",
    "\n",
    "## **6.9) Performance Metrics Visualization**  \n",
    "  \n",
    "\n",
    "| **Metric** | **Description** | **Key Observations** |\n",
    "|-----------|----------------|----------------------|\n",
    "| **F1-Score (Detection Performance)** | Measures how well models detect tumors with precision and recall. | **Fine-Tuned YOLO achieved the highest F1-score**, making it the most reliable model for tumor identification. Detectron and YOLO exhibited moderate performance with higher variability. |\n",
    "| **IoU (Segmentation Performance)** | Evaluates how accurately segmented tumor regions overlap with the ground truth masks. | **YOLO + SAM recorded the highest IoU**, confirming enhanced segmentation accuracy. Detectron and YOLO showed lower precision, suggesting the need for further refinement. |\n",
    "| **Tumor Heterogeneity Effect** | Assesses how variations in tumor morphology impact segmentation accuracy. | **Tumor heterogeneity significantly affects segmentation performance**, indicating the need for **adaptive learning techniques** to enhance model robustness. |\n",
    "\n",
    "### **6.10.1) Next Steps in Model Improvement**  \n",
    "- **Refining segmentation boundaries** using reinforcement learning techniques such as **GRPO & PPO**.  \n",
    "- **Integrating hybrid models** to improve both **detection and segmentation accuracy**.  \n",
    "- **Further clinical validation** to evaluate model performance across diverse tumor morphologies and enhance its **applicability in real-world scenarios**.  \n",
    "\n",
    "\n",
    "\n",
    "\n"
   ]
  },
  {
   "cell_type": "markdown",
   "id": "be6798a9",
   "metadata": {
    "papermill": {
     "duration": 0.007557,
     "end_time": "2025-03-21T19:21:56.637027",
     "exception": false,
     "start_time": "2025-03-21T19:21:56.629470",
     "status": "completed"
    },
    "tags": []
   },
   "source": [
    "\n",
    "# 7)Final Summary & Research Poster\n",
    "\n",
    "![Research Poster](https://i.imgur.com/lOhZWYB.jpeg)  \n",
    "\n",
    "## **7.1) Key Findings and Statistical Validation**  \n",
    "\n",
    "| **Key Findings** | **Statistical Validation** | **Implications** |\n",
    "|-----------------|---------------------------|------------------|\n",
    "| **Fine-Tuned YOLO achieved the highest F1-score**, confirming its superior detection accuracy. | **ANOVA confirmed significant performance differences among models (p < 0.05).** | **Fine-Tuned YOLO is the best detection model but requires further validation across diverse cases.** |\n",
    "| **YOLO + SAM recorded the highest IoU**, making it the most precise for tumor segmentation. | **Tukey HSD failed to confirm a single superior model across all tumor types.** | **Segmentation models need to adapt to tumor variability.** |\n",
    "| **Detectron2 showed inconsistent segmentation accuracy**, indicating room for improvement. | **Segmentation precision was highly impacted by tumor heterogeneity.** | **Adaptive learning techniques are needed to improve robustness.** |\n",
    "| **No single model was definitively superior across all cases.** | **Performance variations exist across different tumor types.** | **Reinforcement learning techniques (GRPO & PPO) are needed to enhance segmentation accuracy.** |\n",
    "| **Reinforcement learning techniques (GRPO & PPO) should be implemented.** | **Needed to refine segmentation boundary precision and reduce false negatives.** | **Future research should focus on reinforcement learning for better adaptability.** |\n",
    "\n",
    "---"
   ]
  },
  {
   "cell_type": "markdown",
   "id": "c3acacc7",
   "metadata": {
    "papermill": {
     "duration": 0.007308,
     "end_time": "2025-03-21T19:21:56.651871",
     "exception": false,
     "start_time": "2025-03-21T19:21:56.644563",
     "status": "completed"
    },
    "tags": []
   },
   "source": [
    "## **7) Reinforcement Learning (GRPO & PPO)**  \n",
    "\n",
    "In **Section 6.4.1**, we demonstrated how **YOLO+SAM** can mislabel healthy regions under complex tumor appearances (e.g., over-segmentation) and fail to detect tumors entirely. That example revealed that **static pipelines** lack adaptive feedback, preventing them from learning from segmentation errors. To overcome these shortcomings, we introduce **Reinforcement Learning (RL)** methods—**GRPO** and **PPO**—which iteratively refine detection and segmentation while optimizing computational memory usage.  \n",
    "\n",
    "### **7.1 How RL Works in Segmentation?**  \n",
    "| ![Reinforcement Learning: Overview](https://i.imgur.com/UbMMpLK.jpeg)\n",
    "\n",
    "One of the core advantages of RL-based segmentation over static pipelines is its ability to adapt and improve over multiple iterations. Instead of relying solely on pre-trained models like **YOLO+SAM**, RL agents learn **from their segmentation mistakes** using a **reward function**, enabling **dynamic refinement** of tumor boundaries and improved recall.  \n",
    "\n",
    "### **7.1.1 RL-Based Reward Function for Tumor Segmentation**  \n",
    "\n",
    "To guide the reinforcement learning (RL) model in improving tumor segmentation, we define a reward function that encourages accurate segmentation while penalizing errors:  \n",
    "\n",
    "$$\n",
    "R_t = \\lambda_1 IoU + \\lambda_2 Dice - \\lambda_3 FNR - \\lambda_4 BPE\n",
    "$$\n",
    "\n",
    "\n",
    "Where:  \n",
    "\n",
    "- **\\( R_t \\) (Reward at time step t)** - Defines how well the segmentation performs at each step.\n",
    "- **\\( IoU \\) (Intersection over Union)** - Measures overlap accuracy (higher is better).\n",
    "- **\\( Dice \\) Score** - Assesses segmentation quality (higher is better).\n",
    "- **\\( FNR \\) (False Negative Rate)** - Penalizes missed tumors (lower is better).\n",
    "- **\\( BPE \\) (Boundary Pixel Error)** - Penalizes boundary misalignment (lower is better).\n",
    "- \n",
    "<p><b>Weighting factors:</b> <b>\\( \\boldsymbol{\\lambda_1}, \\boldsymbol{\\lambda_2}, \\boldsymbol{\\lambda_3}, \\boldsymbol{\\lambda_4} \\)</b> control how much each term influences the reward.</p>\n",
    "\n",
    "\n",
    "\n",
    "#### **Why This Reward Function?**  \n",
    "\n",
    "- **Encourages higher tumor coverage** by maximizing **IoU and Dice Scores**.  \n",
    "- **Reduces false negatives** by penalizing **missed tumor regions (FNR)**.  \n",
    "- **Refines boundary precision** by discouraging boundary misalignment (BPE).  \n",
    "- **Balances computational efficiency and segmentation accuracy** dynamically.  \n",
    "\n",
    "### **7.2 GRPO: Improving Tumor Coverage**  \n",
    "\n",
    "**GRPO** is optimized to **reduce false negatives**, ensuring tumors are not missed by the segmentation model.  \n",
    "\n",
    "- It learns from previous detection failures and rewards correct tumor identification.  \n",
    "- **Key effect:** Increases **recall (sensitivity)** and lowers **FNR**, leading to more complete tumor segmentation.  \n",
    "- **RL-based feedback loop:** Ensures missed tumors are detected in later iterations.  \n",
    "\n",
    "### **7.2.1 Traditional Segmentation to Iterative Refinement**  \n",
    "| ![Reinforcement Learning: Overview](https://i.imgur.com/eAwWBte.jpeg) |  \n",
    "\n",
    "### **7.3 PPO: Refining Tumor Boundaries**  \n",
    "\n",
    "**PPO** incrementally **enhances boundary precision**, ensuring segmentation masks closely align with actual tumor regions.  \n",
    "\n",
    "- **Key effect:** Improves **IoU and Dice scores** while reducing **over-segmentation**.  \n",
    "- Expert-driven feedback enables iterative refinement for better clinical reliability.  \n",
    "- **Focuses on reducing boundary misalignment (BPE)** rather than just recall.  \n",
    "\n",
    "By incorporating **expert signals** (e.g., radiologist corrections) into the RL loop, these methods can:  \n",
    "\n",
    "- **Increase segmentation completeness**: GRPO recovers undetected tumor regions, optimizing memory efficiency while maintaining accuracy.  \n",
    "- **Refine boundary precision**: PPO’s iterative updates yield **higher IoU and Dice scores** compared to static pipelines like YOLO+SAM.  \n",
    "\n",
    "Below, we compare **YOLO+SAM’s limitations** with **how RL-based methods adaptively improve segmentation** over multiple iterations:  \n",
    "\n",
    "![Reinforcement Learning: Overview](https://i.imgur.com/opJrHM3.jpeg) \n",
    "\n",
    "---\n",
    "\n",
    "### **7.4 Reward Function Breakdown: GRPO vs PPO**  \n",
    "\n",
    "| **Method**  | **Focus Area**       | **Key Metric**                     | **Role in Segmentation** |\n",
    "|------------|----------------|--------------------------------|----------------|\n",
    "| **GRPO** | **Detection & Recall**   | **F1-score, False Negative Rate (FNR)** | **Reduces FNR, Improves Recall** |\n",
    "| **PPO**  | **Boundary Precision** | **IoU, Dice, Hausdorff Distance (HD)** | **Refines boundaries, Optimizes segmentation accuracy** |\n",
    "\n",
    "The **reward function** is critical in shaping **how each method learns**:  \n",
    "\n",
    "- **\\( + \\) Higher rewards for accurate segmentation (IoU/Dice) ✅**  \n",
    "- **\\( + \\) Large penalties for missing tumors (GRPO minimizes FNR) ✅**  \n",
    "- **\\( - \\) Penalties for boundary misalignment (PPO corrects segmentation errors) ❌**  \n",
    "\n",
    "---\n",
    "## **7.5 Reinforcement Learning for Segmentation: Reward Computation & Iterative Refinement**\n",
    "\n",
    "Building on the above reward function concepts, we can apply them in an **iterative refinement** process for segmentation. In a reinforcement learning approach, the current segmentation mask serves as the state, and the model incrementally adjusts this mask (through actions) to maximize the reward. \n",
    "\n",
    "Starting from an initial segmentation result (e.g., from a **YOLO+SAM** model), an RL agent (using **GRPO/PPO** algorithms) refines the segmentation over a series of steps. After each adjustment, the agent receives a **reward signal** indicating whether the change improved the segmentation. This process repeats until the segmentation mask is as accurate as possible or no further improvement can be gained. \n",
    "\n",
    "The diagram below illustrates this **reinforcement learning–driven refinement cycle**:\n",
    "\n",
    "![**Diagram:** An RL agent iteratively refines the segmentation mask, receiving feedback after each action.](https://i.imgur.com/g4W7bES.jpeg)\n",
    "\n",
    "### **How It Works:**\n",
    "- **Initial State:** Begin with an initial segmentation mask (for instance, generated by a baseline model like **YOLO+SAM**) as the starting point for the RL agent.\n",
    "- **Actions (Refinement Steps):** At each step, the agent proposes an adjustment to the current mask – for example, **expanding a detected region, refining a tumor boundary, or removing a falsely labeled area**.\n",
    "- **Reward Feedback:** After each action, the new mask is evaluated against the ground truth. The agent receives a **reward** based on the updated mask’s quality:\n",
    "  - **Positive Reward** if the overlap with the true tumor (**IoU/Dice score**) improves. ✅\n",
    "  - **Negative Reward** if the segmentation worsens (e.g., increasing false negatives or boundary misalignment). ❌\n",
    "- **Reward Function Design:** The reward is carefully designed to encourage accurate segmentation. It **rewards** improved overlap with the ground truth and **penalizes** errors. For example:\n",
    "  - The agent gains a **positive reward** for increasing **true positive coverage of the tumor**.\n",
    "  - The agent receives a **large penalty** for **missing any part of the tumor** (*false negative*).\n",
    "  - The agent is penalized for **segmenting outside the tumor boundaries** (*false positive*).\n",
    "  - *(This aligns with **GRPO’s** focus on capturing all tumor regions and **PPO’s** focus on precise boundaries.)*\n",
    "- **Iterative Refinement:** Over multiple iterations, the agent learns a **policy** that maximizes the **cumulative reward**, gradually improving the mask. Using the **GRPO/PPO** approach ensures the agent **balances sensitivity and precision** – avoiding missed tumors while refining the tumor outline. \n",
    "\n",
    "### **7.5.1 Final Outcome:**\n",
    "- **Increased segmentation completeness:** GRPO recovers undetected tumor regions, optimizing memory efficiency while maintaining accuracy.\n",
    "- **Refined boundary precision:** PPO’s iterative updates yield **higher IoU and Dice scores** compared to static pipelines like **YOLO+SAM**.\n",
    "- **Optimized performance:** The iterative nature of reinforcement learning ensures **higher recall, better precision, and reduced segmentation errors over multiple steps**.\n",
    "\n",
    "\n",
    "### **7.6 Conclusion**  \n",
    "\n",
    "While **YOLO+SAM** serves as a strong **baseline detection + segmentation pipeline**, its **static approach results in segmentation failures** that limit clinical reliability.  \n",
    "\n",
    "In contrast, **GRPO and PPO leverage reinforcement learning** to iteratively refine segmentation masks while balancing **accuracy and memory efficiency**.  \n",
    "\n",
    "By integrating **expert-driven feedback**, these models continuously improve, ultimately **bridging the gap between AI-driven segmentation and expert radiologist-level precision** while maintaining an efficient computational footprint.  \n",
    "\n",
    "---\n"
   ]
  },
  {
   "cell_type": "markdown",
   "id": "80c962ad",
   "metadata": {
    "papermill": {
     "duration": 0.00737,
     "end_time": "2025-03-21T19:21:56.667140",
     "exception": false,
     "start_time": "2025-03-21T19:21:56.659770",
     "status": "completed"
    },
    "tags": []
   },
   "source": [
    "## **7.4). GRPO Results** \n",
    "*Performance metrics for the GRPO method on object detection and segmentation.*  \n",
    "GRPO (Group Relative Policy Optimization) focuses on **reducing missed detections**, improving sensitivity. The table is split into **Object Detection** (FNR, bounding box IoU, etc.) and **Segmentation** (mask IoU, Dice, etc.). Values represent **mean** results on the test set, with *p*-values (from paired tests vs. baseline) indicating statistical significance.\n",
    "\n",
    "### **7.4.1) GRPO Object Detection & Segmentation**                                   |                                  |\n",
    "![Summary Table GRPO](https://i.imgur.com/q1jGboy.jpeg)  \n",
    "\n",
    "> **Notes**:  \n",
    "> - FNR = False Negative Rate (lower is better); IoU = overlap ratio (higher better); Dice Score = overlap measure (higher better); HD = Hausdorff distance (lower better).  \n",
    "> - **★** = significant improvement vs. baseline (*p* < 0.05).  \n",
    "> - GRPO’s reward structure emphasizes **recovering** missed detections, so biggest gain = lower FNR + better overall coverage.\n",
    "\n",
    "---\n",
    "\n",
    "## **7.5. PPO Results**  \n",
    "*Performance metrics for the PPO method on object detection and segmentation.*  \n",
    "PPO (Proximal Policy Optimization) emphasizes **boundary refinement**, improving alignment. Again, we show **Object Detection** and **Segmentation** results separately.\n",
    "\n",
    "### **7.5.1) PPO – Object Detection & Segmentation**\n",
    "![Summary Table PPO](https://i.imgur.com/4fdDf2J.jpeg)  \n",
    "> **Notes**:  \n",
    "> - PPO’s iterative updates focus on **refining** boundaries → significantly improved bounding box IoU and segmentation boundaries.  \n",
    "> - **★** = significant improvement vs. baseline (*p* < 0.05).\n",
    "\n",
    "---\n",
    "\n",
    "## **7.6). Comparative Analysis: GRPO vs. PPO**  \n",
    "*Side-by-side view of how GRPO and PPO each improve detection and segmentation differently.* GRPO excels at **recovering** missed regions (lower FNR), while PPO is better at **refining** boundaries (higher IoU, lower HD). Bold text indicates which approach leads to the **better** outcome in each metric; asterisks (*) mark any significant differences between them.\n",
    "\n",
    "![Summary Table PPO](https://i.imgur.com/ur04Dp5.jpeg)                |\n",
    "\n",
    "> **Notes**:  \n",
    "> - “(Δ)” indicates change from baseline. “pp” stands for percentage points.  \n",
    "> - **Bold** indicates which RL method performs better on that specific metric.  \n",
    "> - *Potential significance marker if the difference between GRPO and PPO is proven significant at p<0.05.  \n",
    "> - GRPO focuses on **recall** (fewer misses), PPO focuses on **boundary** precision.\n"
   ]
  },
  {
   "cell_type": "markdown",
   "id": "18e2fd03",
   "metadata": {
    "papermill": {
     "duration": 0.007427,
     "end_time": "2025-03-21T19:21:56.682284",
     "exception": false,
     "start_time": "2025-03-21T19:21:56.674857",
     "status": "completed"
    },
    "tags": []
   },
   "source": [
    "## **7.7) Tukey HSD Object Detection & Segmentation Results**\n",
    "\n",
    "### **7.7.1) Tukey HSD for Object Detection**\n",
    "![TurkeyHSD_Objection_Detection](https://i.imgur.com/yASjEdf.jpeg)\n",
    "\n",
    "#### **7.7.1.1) Conclusion for Object Detection**\n",
    "- **Fine-Tuned YOLO achieved the highest F1-score**, significantly outperforming GRPO and PPO (*p* < 0.05), making it the most accurate detection model.\n",
    "- **GRPO and PPO significantly reduced False Negative Rate (FNR)** compared to YOLO (*p* < 0.01), meaning fewer tumors were missed.\n",
    "- **IoU differences among YOLO, GRPO, and PPO were not statistically significant**, indicating that bounding box localization accuracy was similar across models.\n",
    "- **GRPO is the best for recall (lower FNR), while YOLO remains the most balanced in detection accuracy (F1-score).**\n",
    "\n",
    "---\n",
    "\n",
    "### **7.7.2) Tukey HSD for Segmentation**\n",
    "![TurkeyHSD_Segmentation](https://i.imgur.com/O3W7YbB.jpeg)\n",
    "\n",
    "#### **7.7.2.1) Conclusion for Segmentation**\n",
    "- **Both GRPO and PPO significantly improved IoU and Dice scores over YOLO** (*p* < 0.005), indicating better segmentation accuracy.\n",
    "- **PPO significantly refined boundary alignment**, as shown by a **lower Hausdorff Distance (HD)** (*p* < 0.005), making it superior in contour precision.\n",
    "- **GRPO improved segmentation coverage (higher IoU), but PPO enhanced segmentation sharpness (lower HD, better Dice score).**\n",
    "- **No significant IoU or Dice difference between GRPO and PPO**, confirming that both reinforcement learning models improved segmentation performance but with different optimization focuses.\n"
   ]
  },
  {
   "cell_type": "markdown",
   "id": "fe7634ae",
   "metadata": {
    "papermill": {
     "duration": 0.007546,
     "end_time": "2025-03-21T19:21:56.698627",
     "exception": false,
     "start_time": "2025-03-21T19:21:56.691081",
     "status": "completed"
    },
    "tags": []
   },
   "source": [
    "## **7.8) Summary of Null Hypotheses Findings**  \n",
    "\n",
    "![Summary Table Tested Hypotheses](https://i.imgur.com/OtXdUYT.jpeg)  \n",
    "## **7.8.1)Summary Tested Hypotheses Findings**\n",
    "\n",
    "## **Summary of Findings**\n",
    "\n",
    "- **Pre-labeled ground truths and AI segmentation masks are significantly different**, indicating label noise and variability in manual annotations.\n",
    "- **Fine-tuned YOLO significantly outperforms baseline models for object detection**, achieving the **highest F1-score and lowest false negative rate (FNR)**.\n",
    "- **Heterogeneity negatively impacts segmentation performance**,\n",
    "- **GRPO substantially reduces false negatives (FNR) in detection**, improving recall and tumor localization without significantly affecting bounding-box IoU.\n",
    "- **PPO refines segmentation boundaries**, leading to **higher IoU and Dice scores** while reducing **Hausdorff Distance (HD)**, demonstrating more precise tumor region delineation.\n",
    "- **GRPO and PPO both outperform YOLO and YOLO+SAM in segmentation**, but PPO provides **sharper tumor boundaries**, while GRPO focuses more on **recovering missed tumor regions**.\n",
    "\n",
    "![Summary Table](https://i.imgur.com/u5PxR4s.jpeg)  \n",
    "## **7.8.2) Summary Pending Hypotheses**\n",
    "- The **gene expression differences among tumor types remain inconclusive**, as the current RNA-seq dataset is insufficient for a comprehensive differential expression analysis.\n",
    "- There is **no statistically significant correlation observed** between **gene expression biomarkers** (GFAP, Sox2, KLF4, Nanog) and segmentation performance.\n",
    "- Due to the **lack of fully paired imaging and molecular data**, further research is needed to establish a potential link between **gene expression signatures and segmentation accuracy**.\n",
    "- While preliminary results suggest possible trends, **robust validation with larger multimodal datasets is required** to draw definitive conclusions."
   ]
  },
  {
   "cell_type": "markdown",
   "id": "f0600ee9",
   "metadata": {
    "papermill": {
     "duration": 0.007399,
     "end_time": "2025-03-21T19:21:56.713801",
     "exception": false,
     "start_time": "2025-03-21T19:21:56.706402",
     "status": "completed"
    },
    "tags": []
   },
   "source": [
    "## **8) Next Steps in Hypothesis Testing**  \n",
    "\n",
    "With hypotheses **H₀₁ - H₀₆ successfully tested**, additional hypotheses still require validation.  \n",
    "\n",
    "### ✔ **Enhancing MRI Image Quality to Improve Statistical Performance**  \n",
    "Future efforts should focus on refining MRI imaging techniques to enhance statistical metrics in segmentation models. Optimizing image resolution, reducing noise, and improving contrast could lead to more precise and reliable AI-driven segmentation.  \n",
    "\n",
    "### ⚠ **Experimental Validation Required for H₀₇ - H₀₁₀**  \n",
    "Hypotheses **H₀₇ - H₀₁₀** necessitate **laboratory-based validation**, as they depend on paired MRI and gene expression data. Establishing a strong correlation between imaging biomarkers and molecular profiles is essential for advancing AI-driven segmentation models.  \n",
    "\n",
    "### **Future Research Priorities**  \n",
    "To advance biomarker-driven AI segmentation models, securing **access to paired datasets** is crucial. Collaboration with research institutions and access to **lab facilities with advanced imaging and molecular analysis technologies** will be key to further investigations. Additionally, integrating multi-modal imaging techniques may enhance the robustness of biomarker validation.  \n"
   ]
  },
  {
   "cell_type": "markdown",
   "id": "eb936fd3",
   "metadata": {
    "papermill": {
     "duration": 0.007327,
     "end_time": "2025-03-21T19:21:56.728879",
     "exception": false,
     "start_time": "2025-03-21T19:21:56.721552",
     "status": "completed"
    },
    "tags": []
   },
   "source": [
    "# **9) Advancing AI-Driven Tumor Segmentation: The Need for Lab Collaboration**  \n",
    "\n",
    "## **9.1) The Critical Role of Lab Collaboration and Data Access**  \n",
    "\n",
    "To fully leverage **AI-driven tumor segmentation** and **biomarker discovery**, datasets must integrate both **radiomics (MRI imaging)** and **transcriptomics (gene expression data)** from the same patients.  \n",
    "However, **limited access to lab facilities, sequencing technologies, and centralized medical data** presents a **major challenge** in validating biomarker-driven segmentation accuracy.  \n",
    "\n",
    "### **9.2) Key Challenges Hindering AI-Based Tumor Segmentation**  \n",
    "\n",
    "| **Challenge** | **Impact on AI Tumor Segmentation** |\n",
    "|-------------|----------------------------------|\n",
    "| **Limited access to MRI and sequencing facilities** | Restricts collection of high-quality paired imaging and genomic data for AI training. |\n",
    "| **MRI provides only structural insights** | Tumor subtypes with similar visual features may have **distinct molecular signatures**, affecting segmentation accuracy. |\n",
    "| **Biomarker influence on segmentation remains untested** | Without paired data, **GFAP, Sox2, KLF4, and Nanog** cannot be correlated with AI tumor detection precision. |\n",
    "| **Lack of centralized medical data** | Limits multi-institutional AI model validation, reducing clinical applicability. |\n",
    "| **Statistical validation cannot be performed** | ANOVA and correlation tests require linked imaging and genomic datasets to assess biomarker impact on segmentation accuracy. |\n",
    "\n",
    "🔹 **Collaboration with labs that have access to clinical MRI scans and sequencing facilities is crucial to overcoming these limitations.**  \n",
    "\n",
    "---\n",
    "\n",
    "## **9.3) Research Gap: The Need for Paired Imaging and Genomic Data**  \n",
    "\n",
    "The diagram below illustrates the gap between current datasets and the ideal paired dataset required for AI-driven tumor segmentation and biomarker validation:  \n",
    "\n",
    "\n",
    "<td width=\"50%\">\n",
    "    <img src=\"https://i.imgur.com/4jS53m7.png\" width=\"100%\" style=\"border-radius: 10px;\">\n",
    "</td>\n",
    "<td width=\"50%\" valign=\"top\">\n",
    "\n",
    "### **9.4) Future Research Priorities: Addressing Data Accessibility**  \n",
    "\n",
    "| **Priority** | **Objective** | **Expected Impact** |\n",
    "|-------------|-------------|-------------------|\n",
    "| **Collaboration with labs that have MRI and sequencing facilities** | Gain access to patient-matched MRI and gene expression data | Enable multi-modal AI tumor classification |\n",
    "| **Validating biomarker influence on segmentation** | Test whether Sox2, Nanog, GFAP, KLF4 affect AI detection | Improve segmentation precision using molecular insights |\n",
    "| **Developing multi-modal AI models** | Combine MRI imaging and genomic insights in AI models | Increase robustness and accuracy of tumor segmentation |\n",
    "| **Collaboration with clinical researchers** | Secure patient-matched datasets for statistical testing | Strengthen clinical validation of AI-driven tumor analysis |\n",
    "| **Creating centralized medical AI datasets** | Standardize imaging-genomic data collection across institutions | Improve AI model generalization and clinical adoption |\n",
    "\n",
    "🔹 **Access to sequencing and imaging resources is essential to advancing this research.**  \n",
    "\n",
    "\n",
    "### **9.5) Final Call for Collaboration**  \n",
    "\n",
    "**If your lab has access to sequencing and imaging facilities, let’s connect.**  \n",
    "**Together, we can bridge the gap between radiomics and genomics to advance AI-driven cancer research.**  \n",
    "**With our research, skills, and collaboration, we can be a beacon of hope for all cancer patients.**  \n",
    "**Let’s make a difference—one breakthrough at a time.**  \n",
    "\n",
    "##  **I deeply appreciate your support in connecting me to lab research facilities. Your contribution will help complete this research and may bring life-changing advancements for cancer patients.**  \n"
   ]
  },
  {
   "cell_type": "markdown",
   "id": "29e5f6a1",
   "metadata": {
    "papermill": {
     "duration": 0.007334,
     "end_time": "2025-03-21T19:21:56.744214",
     "exception": false,
     "start_time": "2025-03-21T19:21:56.736880",
     "status": "completed"
    },
    "tags": []
   },
   "source": [
    "## **10) Video Presentation: AI-Based Tumor Detection & Segmentation**  \n",
    "\n",
    " **Clarification on Scope:**  \n",
    "This presentation **focuses exclusively** on the second part of the research—**AI-driven object detection and segmentation of MRI images**.  \n",
    "Due to the **lack of paired gene expression and MRI datasets**, biomarker-based tumor analysis could **not be applied** to MRI segmentation.  \n",
    "\n",
    "---\n",
    "\n",
    "### **10.1) Overview of the Presentation**  \n",
    "To provide a **comprehensive overview** of the research methodology, experimental setup, and key findings, this **video presentation** covers:  \n",
    "\n",
    "✔ **Automated brain tumor detection pipeline** and its integration with deep learning models.  \n",
    "✔ **Comparative evaluation of object detection and segmentation models**, analyzing performance variations.  \n",
    "✔ **Statistical validation using ANOVA and Tukey HSD** to assess model effectiveness.  \n",
    "✔ **Impact of tumor heterogeneity on segmentation precision** and generalization.  \n",
    "✔ **Implementation of reinforcement learning (GRPO & PPO)** for segmentation refinement and accuracy enhancement.  \n",
    "\n",
    " **Access the Full Presentation:**  \n",
    " [**Watch the Video**](https://drive.google.com/file/d/1EHzgCLdcyyKu2CXUlXvMCJ29DHhOyyhq/view?usp=sharing)  \n",
    "\n",
    "The presentation serves as a **visual walkthrough** of the experimental design, providing a **clear and structured explanation** of model performance, statistical findings, and areas for future improvement.\n"
   ]
  },
  {
   "cell_type": "markdown",
   "id": "a267095f",
   "metadata": {
    "papermill": {
     "duration": 0.007722,
     "end_time": "2025-03-21T19:21:56.759701",
     "exception": false,
     "start_time": "2025-03-21T19:21:56.751979",
     "status": "completed"
    },
    "tags": []
   },
   "source": [
    "<!--\n",
    "$$ F = \\frac{\\text{MS}_\\text{between}}{\\text{MS}_\\text{within}}, \\quad F \\sim F(k-1, N-k) $$\n",
    "-->\n",
    "\n",
    "## **Thank You for Reading!**  \n",
    "I appreciate you taking the time to explore this notebook and analysis. Your interest means a lot, and I hope you found the insights helpful!\n",
    "\n",
    "If you liked the work, please consider upvoting. Feel free to leave any questions or comments below — I’d love to hear your thoughts!\n",
    "\n",
    " Let’s keep pushing the boundaries of our research! 😊\n"
   ]
  }
 ],
 "metadata": {
  "kaggle": {
   "accelerator": "none",
   "dataSources": [
    {
     "datasetId": 6794005,
     "sourceId": 10927437,
     "sourceType": "datasetVersion"
    },
    {
     "datasetId": 6794094,
     "sourceId": 10927540,
     "sourceType": "datasetVersion"
    },
    {
     "datasetId": 6799229,
     "sourceId": 10934157,
     "sourceType": "datasetVersion"
    },
    {
     "datasetId": 6799314,
     "sourceId": 10934267,
     "sourceType": "datasetVersion"
    },
    {
     "datasetId": 6799323,
     "sourceId": 10934277,
     "sourceType": "datasetVersion"
    },
    {
     "datasetId": 6799383,
     "sourceId": 10934355,
     "sourceType": "datasetVersion"
    },
    {
     "datasetId": 6799411,
     "sourceId": 10934386,
     "sourceType": "datasetVersion"
    },
    {
     "datasetId": 6799436,
     "sourceId": 10934415,
     "sourceType": "datasetVersion"
    },
    {
     "datasetId": 6799471,
     "sourceId": 10934468,
     "sourceType": "datasetVersion"
    },
    {
     "datasetId": 6799489,
     "sourceId": 10934489,
     "sourceType": "datasetVersion"
    },
    {
     "datasetId": 6799499,
     "sourceId": 10934502,
     "sourceType": "datasetVersion"
    },
    {
     "datasetId": 6799510,
     "sourceId": 10934517,
     "sourceType": "datasetVersion"
    },
    {
     "datasetId": 6799522,
     "sourceId": 10934534,
     "sourceType": "datasetVersion"
    }
   ],
   "dockerImageVersionId": 30887,
   "isGpuEnabled": false,
   "isInternetEnabled": true,
   "language": "python",
   "sourceType": "notebook"
  },
  "kernelspec": {
   "display_name": "Python 3",
   "language": "python",
   "name": "python3"
  },
  "language_info": {
   "codemirror_mode": {
    "name": "ipython",
    "version": 3
   },
   "file_extension": ".py",
   "mimetype": "text/x-python",
   "name": "python",
   "nbconvert_exporter": "python",
   "pygments_lexer": "ipython3",
   "version": "3.10.12"
  },
  "papermill": {
   "default_parameters": {},
   "duration": 3.960896,
   "end_time": "2025-03-21T19:21:57.288310",
   "environment_variables": {},
   "exception": null,
   "input_path": "__notebook__.ipynb",
   "output_path": "__notebook__.ipynb",
   "parameters": {},
   "start_time": "2025-03-21T19:21:53.327414",
   "version": "2.6.0"
  }
 },
 "nbformat": 4,
 "nbformat_minor": 5
}
